{
 "cells": [
  {
   "cell_type": "code",
   "execution_count": 2,
   "metadata": {},
   "outputs": [],
   "source": [
    "# %cd data\n",
    "# !wget http://s3.amazonaws.com/songlabdata/proteindata/data_pytorch/secondary_structure.tar.gz\n",
    "# !tar -xvf secondary_structure.tar.gz && rm secondary_structure.tar.gz\n",
    "# !wget http://s3.amazonaws.com/songlabdata/proteindata/data_pytorch/proteinnet.tar.gz\n",
    "# !tar -xvf proteinnet.tar.gz && rm proteinnet.tar.gz"
   ]
  },
  {
   "cell_type": "code",
   "execution_count": null,
   "metadata": {},
   "outputs": [],
   "source": [
    "### Attention Analysis\n",
    "\n",
    "# The following steps will reproduce the attention analysis experiments and generate the reports currently found in\n",
    "#  <project_root>/reports/attention_analysis. This includes all experiments besides the probing experiments\n",
    "#   (see [Probing Analysis](#probing-analysis)).\n",
    "\n",
    "# cd <project_root>/protein_attention/attention_analysis\n",
    "\n",
    "# sh scripts/compute_all_features_prot_bert.sh\n",
    "# sh scripts/report_all_features_prot_bert.sh"
   ]
  }
 ],
 "metadata": {
  "kernelspec": {
   "display_name": "provis",
   "language": "python",
   "name": "python3"
  },
  "language_info": {
   "codemirror_mode": {
    "name": "ipython",
    "version": 3
   },
   "file_extension": ".py",
   "mimetype": "text/x-python",
   "name": "python",
   "nbconvert_exporter": "python",
   "pygments_lexer": "ipython3",
   "version": "3.8.18"
  }
 },
 "nbformat": 4,
 "nbformat_minor": 2
}
