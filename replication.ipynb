{
 "cells": [
  {
   "cell_type": "code",
   "execution_count": 4,
   "metadata": {},
   "outputs": [
    {
     "name": "stdout",
     "output_type": "stream",
     "text": [
      "/scratch/abhay/provis/data\n",
      "--2023-10-12 14:43:16--  http://s3.amazonaws.com/songlabdata/proteindata/data_pytorch/secondary_structure.tar.gz\n",
      "Resolving s3.amazonaws.com (s3.amazonaws.com)... 52.216.147.13, 52.217.125.128, 52.217.170.88, ...\n",
      "Connecting to s3.amazonaws.com (s3.amazonaws.com)|52.216.147.13|:80... connected.\n",
      "HTTP request sent, awaiting response... 200 OK\n",
      "Length: 251794897 (240M) [application/x-tar]\n",
      "Saving to: ‘secondary_structure.tar.gz’\n",
      "\n",
      "secondary_structure 100%[===================>] 240.13M  7.02MB/s    in 67s     \n",
      "\n",
      "2023-10-12 14:44:24 (3.58 MB/s) - ‘secondary_structure.tar.gz’ saved [251794897/251794897]\n",
      "\n",
      "secondary_structure/\n",
      "secondary_structure/secondary_structure_train.lmdb/\n",
      "secondary_structure/secondary_structure_train.lmdb/data.mdb\n",
      "secondary_structure/secondary_structure_train.lmdb/lock.mdb\n",
      "secondary_structure/secondary_structure_valid.lmdb/\n",
      "secondary_structure/secondary_structure_valid.lmdb/data.mdb\n",
      "secondary_structure/secondary_structure_valid.lmdb/lock.mdb\n",
      "secondary_structure/secondary_structure_cb513.lmdb/\n",
      "secondary_structure/secondary_structure_cb513.lmdb/data.mdb\n",
      "secondary_structure/secondary_structure_cb513.lmdb/lock.mdb\n",
      "secondary_structure/secondary_structure_ts115.lmdb/\n",
      "secondary_structure/secondary_structure_ts115.lmdb/data.mdb\n",
      "secondary_structure/secondary_structure_ts115.lmdb/lock.mdb\n",
      "secondary_structure/secondary_structure_casp12.lmdb/\n",
      "secondary_structure/secondary_structure_casp12.lmdb/data.mdb\n",
      "secondary_structure/secondary_structure_casp12.lmdb/lock.mdb\n",
      "--2023-10-12 14:44:28--  http://s3.amazonaws.com/songlabdata/proteindata/data_pytorch/proteinnet.tar.gz\n",
      "Resolving s3.amazonaws.com (s3.amazonaws.com)... 52.216.108.173, 52.217.103.62, 54.231.172.176, ...\n",
      "Connecting to s3.amazonaws.com (s3.amazonaws.com)|52.216.108.173|:80... connected.\n",
      "HTTP request sent, awaiting response... 200 OK\n",
      "Length: 464501179 (443M) [application/x-tar]\n",
      "Saving to: ‘proteinnet.tar.gz’\n",
      "\n",
      "proteinnet.tar.gz     9%[>                   ]  43.67M  84.8KB/s    eta 30m 24s"
     ]
    }
   ],
   "source": [
    "%cd data\n",
    "!wget http://s3.amazonaws.com/songlabdata/proteindata/data_pytorch/secondary_structure.tar.gz\n",
    "!tar -xvf secondary_structure.tar.gz && rm secondary_structure.tar.gz\n",
    "!wget http://s3.amazonaws.com/songlabdata/proteindata/data_pytorch/proteinnet.tar.gz\n",
    "!tar -xvf proteinnet.tar.gz && rm proteinnet.tar.gz"
   ]
  },
  {
   "cell_type": "code",
   "execution_count": 1,
   "metadata": {},
   "outputs": [
    {
     "name": "stdout",
     "output_type": "stream",
     "text": [
      "attribution.txt     images\t       provis.egg-info\t  requirements.txt\n",
      "CODE_OF_CONDUCT.md  LICENSE\t       README.md\t  SECURITY.md\n",
      "CODEOWNERS\t    notebooks\t       replication.ipynb  setup.py\n",
      "data\t\t    protein_attention  reports\n"
     ]
    }
   ],
   "source": [
    "!ls"
   ]
  },
  {
   "cell_type": "code",
   "execution_count": 2,
   "metadata": {},
   "outputs": [
    {
     "name": "stdout",
     "output_type": "stream",
     "text": [
      "/scratch/abhay/provis/data\n"
     ]
    }
   ],
   "source": [
    "%cd data\n",
    "!rm -rf wget-log proteinnet.tar.gz secondary_structure"
   ]
  },
  {
   "cell_type": "code",
   "execution_count": null,
   "metadata": {},
   "outputs": [],
   "source": []
  }
 ],
 "metadata": {
  "kernelspec": {
   "display_name": "provis",
   "language": "python",
   "name": "python3"
  },
  "language_info": {
   "codemirror_mode": {
    "name": "ipython",
    "version": 3
   },
   "file_extension": ".py",
   "mimetype": "text/x-python",
   "name": "python",
   "nbconvert_exporter": "python",
   "pygments_lexer": "ipython3",
   "version": "3.8.18"
  }
 },
 "nbformat": 4,
 "nbformat_minor": 2
}
